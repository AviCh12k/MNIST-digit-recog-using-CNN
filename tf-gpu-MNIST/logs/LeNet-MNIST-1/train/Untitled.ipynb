{
 "cells": [
  {
   "cell_type": "code",
   "execution_count": 1,
   "metadata": {},
   "outputs": [],
   "source": [
    "import tensorflow as tf"
   ]
  },
  {
   "cell_type": "code",
   "execution_count": 2,
   "metadata": {},
   "outputs": [],
   "source": [
    "mnist = tf.keras.datasets.mnist\n",
    "\n",
    "(train_images, train_labels), (test_images, test_labels) = mnist.load_data()"
   ]
  },
  {
   "cell_type": "code",
   "execution_count": 3,
   "metadata": {},
   "outputs": [],
   "source": [
    "# reshape and rescale data for the CNN\n",
    "\n",
    "train_images = train_images.reshape(60000, 28, 28, 1)\n",
    "\n",
    "test_images = test_images.reshape(10000, 28, 28, 1)\n",
    "\n",
    "train_images, test_images = train_images/255, test_images/255"
   ]
  },
  {
   "cell_type": "code",
   "execution_count": 4,
   "metadata": {},
   "outputs": [],
   "source": [
    "model = tf.keras.Sequential([\n",
    "    tf.keras.layers.Conv2D(32, (3,3), activation='relu', input_shape=(28,28,1)),\n",
    "    tf.keras.layers.Conv2D(64, (3,3), activation='relu'),\n",
    "    tf.keras.layers.MaxPooling2D(2,2),\n",
    "    tf.keras.layers.Dropout(0.25),\n",
    "    tf.keras.layers.Flatten(),\n",
    "    tf.keras.layers.Dense(128, activation='relu'),\n",
    "    tf.keras.layers.Dropout(0.5),\n",
    "    tf.keras.layers.Dense(10, activation='softmax')\n",
    "])"
   ]
  },
  {
   "cell_type": "code",
   "execution_count": 5,
   "metadata": {},
   "outputs": [],
   "source": [
    "model.compile(optimizer='adam', loss='sparse_categorical_crossentropy', metrics=['accuracy'])"
   ]
  },
  {
   "cell_type": "code",
   "execution_count": 6,
   "metadata": {},
   "outputs": [],
   "source": [
    "tensor_board = tf.keras.callbacks.TensorBoard('./logs/LeNet-MNIST-1')"
   ]
  },
  {
   "cell_type": "code",
   "execution_count": null,
   "metadata": {},
   "outputs": [
    {
     "name": "stdout",
     "output_type": "stream",
     "text": [
      "Train on 60000 samples, validate on 10000 samples\n",
      "Epoch 1/15\n",
      "60000/60000 [==============================] - 12s 198us/sample - loss: 0.2397 - accuracy: 0.9275 - val_loss: 0.0487 - val_accuracy: 0.9837\n",
      "Epoch 2/15\n",
      "60000/60000 [==============================] - 8s 137us/sample - loss: 0.0858 - accuracy: 0.9748 - val_loss: 0.0349 - val_accuracy: 0.9882\n",
      "Epoch 3/15\n",
      "60000/60000 [==============================] - 8s 126us/sample - loss: 0.0647 - accuracy: 0.9808 - val_loss: 0.0373 - val_accuracy: 0.9876\n",
      "Epoch 4/15\n",
      "60000/60000 [==============================] - 8s 126us/sample - loss: 0.0519 - accuracy: 0.9836 - val_loss: 0.0358 - val_accuracy: 0.9887\n",
      "Epoch 5/15\n",
      "60000/60000 [==============================] - 8s 127us/sample - loss: 0.0454 - accuracy: 0.9857 - val_loss: 0.0324 - val_accuracy: 0.9897\n",
      "Epoch 6/15\n",
      "60000/60000 [==============================] - 8s 125us/sample - loss: 0.0412 - accuracy: 0.9871 - val_loss: 0.0286 - val_accuracy: 0.9902\n",
      "Epoch 7/15\n",
      "60000/60000 [==============================] - 8s 126us/sample - loss: 0.0350 - accuracy: 0.9891 - val_loss: 0.0260 - val_accuracy: 0.9911\n",
      "Epoch 8/15\n",
      "11392/60000 [====>.........................] - ETA: 5s - loss: 0.0285 - accuracy: 0.9910"
     ]
    }
   ],
   "source": [
    "import time\n",
    "\n",
    "start_time=time.time()\n",
    "\n",
    "model.fit(train_images, train_labels, batch_size=128, epochs=15, verbose=1,\n",
    "         validation_data=(test_images, test_labels), callbacks=[tensor_board])\n",
    "\n",
    "print('Training took {} seconds'.format(time.time()-start_time))"
   ]
  },
  {
   "cell_type": "code",
   "execution_count": 17,
   "metadata": {},
   "outputs": [],
   "source": [
    "os.environ['TF_FORCE_GPU_ALLOW_GROWTH'] = 'true'"
   ]
  },
  {
   "cell_type": "code",
   "execution_count": 16,
   "metadata": {},
   "outputs": [],
   "source": [
    "import os"
   ]
  },
  {
   "cell_type": "code",
   "execution_count": null,
   "metadata": {},
   "outputs": [],
   "source": []
  }
 ],
 "metadata": {
  "kernelspec": {
   "display_name": "TensorFlow-GPU-2.3.0",
   "language": "python",
   "name": "tf-gpu"
  },
  "language_info": {
   "codemirror_mode": {
    "name": "ipython",
    "version": 3
   },
   "file_extension": ".py",
   "mimetype": "text/x-python",
   "name": "python",
   "nbconvert_exporter": "python",
   "pygments_lexer": "ipython3",
   "version": "3.7.0"
  }
 },
 "nbformat": 4,
 "nbformat_minor": 4
}
